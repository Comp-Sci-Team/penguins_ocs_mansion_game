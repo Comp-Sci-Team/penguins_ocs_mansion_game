{
 "cells": [
  {
   "cell_type": "markdown",
   "id": "b0174a80",
   "metadata": {},
   "source": []
  }
 ],
 "metadata": {
  "language_info": {
   "name": "python"
  }
 },
 "nbformat": 4,
 "nbformat_minor": 5
}
